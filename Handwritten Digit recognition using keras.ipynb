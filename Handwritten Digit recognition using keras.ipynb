{
 "cells": [
  {
   "cell_type": "code",
   "execution_count": 7,
   "metadata": {},
   "outputs": [],
   "source": [
    "import keras\n",
    "from keras.datasets import mnist\n",
    "from keras.models import Sequential\n",
    "from keras.layers import Dense, Activation, Flatten\n",
    "from keras.layers import Conv2D, MaxPooling2D\n",
    "from keras.preprocessing.image import ImageDataGenerator"
   ]
  },
  {
   "cell_type": "code",
   "execution_count": 8,
   "metadata": {},
   "outputs": [],
   "source": [
    "(x_train, y_train), (x_test, y_test) = mnist.load_data()"
   ]
  },
  {
   "cell_type": "code",
   "execution_count": 9,
   "metadata": {},
   "outputs": [],
   "source": [
    "x_train = x_train.reshape(x_train.shape[0], 28, 28, 1)\n",
    "x_test = x_test.reshape(x_test.shape[0], 28, 28, 1)\n",
    " \n",
    "x_train = x_train.astype('float32')\n",
    "x_test = x_test.astype('float32')\n",
    " \n",
    "x_train /= 255 #inputs have to be between [0, 1]\n",
    "x_test /= 255\n",
    "\n",
    "batch_size = 250\n",
    "epochs = 10\n",
    "num_classes=10"
   ]
  },
  {
   "cell_type": "code",
   "execution_count": 10,
   "metadata": {},
   "outputs": [],
   "source": [
    "y_train = keras.utils.to_categorical(y_train, num_classes)\n",
    "y_test = keras.utils.to_categorical(y_test, num_classes)"
   ]
  },
  {
   "cell_type": "code",
   "execution_count": 11,
   "metadata": {},
   "outputs": [],
   "source": [
    "model = Sequential()\n",
    " \n",
    "#1st convolution layer\n",
    "model.add(Conv2D(32, (3, 3) #apply 32 filters size of (3, 3)\n",
    " , input_shape=(28,28,1)))\n",
    "model.add(Activation('relu'))\n",
    "model.add(MaxPooling2D(pool_size=(2,2)))\n",
    " \n",
    "#2nd convolution layer\n",
    "model.add(Conv2D(64,(3, 3))) #apply 64 filters size of (3x3)\n",
    "model.add(Activation('relu'))\n",
    "model.add(MaxPooling2D(pool_size=(2,2)))\n",
    " \n",
    "model.add(Flatten())\n",
    " \n",
    "# Fully connected layer. 1 hidden layer consisting of 512 nodes\n",
    "model.add(Dense(512))\n",
    "model.add(Activation('relu'))\n",
    " \n",
    "#10 outputs\n",
    "model.add(Dense(10, activation='softmax'))"
   ]
  },
  {
   "cell_type": "code",
   "execution_count": 12,
   "metadata": {},
   "outputs": [],
   "source": [
    "gen = ImageDataGenerator()\n",
    "train_generator = gen.flow(x_train, y_train, batch_size=batch_size)"
   ]
  },
  {
   "cell_type": "code",
   "execution_count": 13,
   "metadata": {},
   "outputs": [
    {
     "name": "stdout",
     "output_type": "stream",
     "text": [
      "Epoch 1/10\n",
      "250/250 [==============================] - 91s 365ms/step - loss: 0.2206 - acc: 0.9338 - val_loss: 0.0613 - val_acc: 0.9821\n",
      "Epoch 2/10\n",
      "250/250 [==============================] - 92s 370ms/step - loss: 0.0556 - acc: 0.9828 - val_loss: 0.0422 - val_acc: 0.9861\n",
      "Epoch 3/10\n",
      "250/250 [==============================] - 89s 357ms/step - loss: 0.0389 - acc: 0.9880 - val_loss: 0.0376 - val_acc: 0.9870\n",
      "Epoch 4/10\n",
      "250/250 [==============================] - 87s 350ms/step - loss: 0.0275 - acc: 0.9914 - val_loss: 0.0320 - val_acc: 0.9895\n",
      "Epoch 5/10\n",
      "250/250 [==============================] - 84s 337ms/step - loss: 0.0219 - acc: 0.9930 - val_loss: 0.0299 - val_acc: 0.9901\n",
      "Epoch 6/10\n",
      "250/250 [==============================] - 83s 332ms/step - loss: 0.0164 - acc: 0.9952 - val_loss: 0.0260 - val_acc: 0.9916\n",
      "Epoch 7/10\n",
      "250/250 [==============================] - 84s 336ms/step - loss: 0.0132 - acc: 0.9958 - val_loss: 0.0319 - val_acc: 0.9908\n",
      "Epoch 8/10\n",
      "250/250 [==============================] - 91s 366ms/step - loss: 0.0120 - acc: 0.9961 - val_loss: 0.0345 - val_acc: 0.9889\n",
      "Epoch 9/10\n",
      "250/250 [==============================] - 95s 382ms/step - loss: 0.0089 - acc: 0.9972 - val_loss: 0.0293 - val_acc: 0.9913\n",
      "Epoch 10/10\n",
      "250/250 [==============================] - 97s 386ms/step - loss: 0.0074 - acc: 0.9976 - val_loss: 0.0291 - val_acc: 0.9915\n"
     ]
    },
    {
     "data": {
      "text/plain": [
       "<keras.callbacks.History at 0x1f4c37c8978>"
      ]
     },
     "execution_count": 13,
     "metadata": {},
     "output_type": "execute_result"
    }
   ],
   "source": [
    "model.compile(loss='categorical_crossentropy'\n",
    " , optimizer=keras.optimizers.Adam()\n",
    " , metrics=['accuracy']\n",
    ")\n",
    " \n",
    "model.fit_generator(train_generator\n",
    " , steps_per_epoch=batch_size\n",
    " , epochs=epochs,\n",
    " validation_data=(x_test, y_test))"
   ]
  },
  {
   "cell_type": "code",
   "execution_count": 14,
   "metadata": {},
   "outputs": [
    {
     "name": "stdout",
     "output_type": "stream",
     "text": [
      "Test loss: 0.029100822468512796\n",
      "Test accuracy: 99.15\n"
     ]
    }
   ],
   "source": [
    "score = model.evaluate(x_test, y_test, verbose=0)\n",
    "print('Test loss:', score[0])\n",
    "print('Test accuracy:', 100*score[1])"
   ]
  },
  {
   "cell_type": "code",
   "execution_count": null,
   "metadata": {},
   "outputs": [],
   "source": []
  }
 ],
 "metadata": {
  "kernelspec": {
   "display_name": "Python 3",
   "language": "python",
   "name": "python3"
  },
  "language_info": {
   "codemirror_mode": {
    "name": "ipython",
    "version": 3
   },
   "file_extension": ".py",
   "mimetype": "text/x-python",
   "name": "python",
   "nbconvert_exporter": "python",
   "pygments_lexer": "ipython3",
   "version": "3.6.5"
  }
 },
 "nbformat": 4,
 "nbformat_minor": 2
}
